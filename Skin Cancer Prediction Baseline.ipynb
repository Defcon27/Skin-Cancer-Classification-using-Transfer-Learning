{
 "cells": [
  {
   "cell_type": "markdown",
   "id": "6fa5a720",
   "metadata": {},
   "source": [
    "## Skin Cancer Classification baseline model"
   ]
  },
  {
   "cell_type": "code",
   "execution_count": 1,
   "id": "fdf93ec8",
   "metadata": {},
   "outputs": [],
   "source": [
    "import os\n",
    "import shutil\n",
    "import numpy as np\n",
    "import pandas as pd\n",
    "import matplotlib.pyplot as plt\n",
    "import seaborn as sns\n",
    "import cv2\n",
    "import sklearn"
   ]
  },
  {
   "cell_type": "markdown",
   "id": "79ab8ac8",
   "metadata": {},
   "source": [
    "### Loading Dataset"
   ]
  },
  {
   "cell_type": "code",
   "execution_count": 2,
   "id": "34c3ceb8",
   "metadata": {},
   "outputs": [
    {
     "name": "stdout",
     "output_type": "stream",
     "text": [
      "['BKL', 'NV', 'AKIEC', 'MEL', 'DF', 'BCC', 'VASC']\n"
     ]
    }
   ],
   "source": [
    "os.mkdir(\"HAM_Dataset\")\n",
    "base = \"HAM_Dataset\"\n",
    "\n",
    "os.mkdir(os.path.join(base, \"MEL\"))\n",
    "os.mkdir(os.path.join(base, \"NV\"))\n",
    "os.mkdir(os.path.join(base, \"BCC\"))\n",
    "os.mkdir(os.path.join(base, \"AKIEC\"))\n",
    "os.mkdir(os.path.join(base, \"BKL\"))\n",
    "os.mkdir(os.path.join(base, \"DF\"))\n",
    "os.mkdir(os.path.join(base, \"VASC\"))\n",
    "\n",
    "print(os.listdir(base))"
   ]
  },
  {
   "cell_type": "code",
   "execution_count": null,
   "id": "e754affa",
   "metadata": {},
   "outputs": [],
   "source": [
    "for image in os.listdir('ISIC2018_Task3_Training_Input'):\n",
    "    if \"jpg\" not in image:\n",
    "        os.remove('ISIC2018_Task3_Training_Input/'+image)\n",
    "\n",
    "for image in os.listdir('ISIC2018_Task3_Training_Input'):\n",
    "    if \"jpg\" not in image:\n",
    "        print(image)"
   ]
  },
  {
   "cell_type": "code",
   "execution_count": null,
   "id": "b71a7814",
   "metadata": {},
   "outputs": [],
   "source": [
    "mapping = {0:\"MEL\", 1:\"NV\", 2:\"BCC\", 3:\"AKIEC\", 4:\"BKL\", 5:\"DF\", 6:\"VASC\"}\n",
    "\n",
    "df_labels = pd.read_csv(\"../input/isictruth/ISIC2018GroundTruth.csv\")\n",
    "for i in range(len(df_labels)):\n",
    "    labels = df_labels.iloc[i,1:]\n",
    "    df_labels.loc[i,\"label\"] = mapping[list(labels).index(1)]\n",
    "\n",
    "#df_labels[\"label\"]=df_labels[\"label\"].astype(int)\n",
    "df_labels.set_index('image', inplace=True)"
   ]
  },
  {
   "cell_type": "code",
   "execution_count": 5,
   "id": "083c0229",
   "metadata": {},
   "outputs": [
    {
     "name": "stdout",
     "output_type": "stream",
     "text": [
      "NV       6705\n",
      "MEL      1113\n",
      "BKL      1099\n",
      "BCC       514\n",
      "AKIEC     327\n",
      "VASC      142\n",
      "DF        115\n",
      "Name: label, dtype: int64\n"
     ]
    }
   ],
   "source": [
    "df_labels['label'].value_counts()"
   ]
  },
  {
   "cell_type": "markdown",
   "id": "fe973dfb",
   "metadata": {},
   "source": [
    "### Computing class weights"
   ]
  },
  {
   "cell_type": "code",
   "execution_count": 10,
   "id": "da687f41",
   "metadata": {},
   "outputs": [
    {
     "name": "stdout",
     "output_type": "stream",
     "text": [
      "{0: 4.375273044997815,\n",
      " 1: 2.78349082823791,\n",
      " 2: 1.301832835044846,\n",
      " 3: 12.440993788819876,\n",
      " 4: 1.2854575792581184,\n",
      " 5: 0.21338020666879728,\n",
      " 6: 10.075452716297788}\n"
     ]
    }
   ],
   "source": [
    "from sklearn.utils import class_weight\n",
    "\n",
    "class_weights = class_weight.compute_class_weight('balanced',\n",
    "                                                  classes=['AKIEC', 'BCC', 'BKL', 'DF', 'MEL', 'NV', 'VASC'],\n",
    "                                                  y=df_labels[\"label\"])\n",
    "class_wt_dict=dict(enumerate(class_weights))\n",
    "class_wt_dict"
   ]
  },
  {
   "cell_type": "code",
   "execution_count": 18,
   "id": "e6dc59ec",
   "metadata": {},
   "outputs": [
    {
     "name": "stdout",
     "output_type": "stream",
     "text": [
      "\n",
      "100%|██████████| 10015/10015 [00:06<00:00, 1625.40it/s]\n",
      "\n"
     ]
    }
   ],
   "source": [
    "from tqdm import tqdm\n",
    "\n",
    "images = os.listdir('ISIC2018_Task3_Training_Input')\n",
    "\n",
    "for image in tqdm(images):\n",
    "    fname=image[:-4]\n",
    "    label=df_labels.loc[fname, \"label\"]\n",
    "    src = os.path.join('ISIC2018_Task3_Training_Input', image)\n",
    "    dst = os.path.join('HAM_Dataset', label, image)\n",
    "    shutil.copyfile(src, dst)"
   ]
  },
  {
   "cell_type": "markdown",
   "id": "7db46759",
   "metadata": {},
   "source": [
    "### Data Augmentation"
   ]
  },
  {
   "cell_type": "code",
   "execution_count": 11,
   "id": "fc89f32c",
   "metadata": {},
   "outputs": [
    {
     "name": "stdout",
     "output_type": "stream",
     "text": [
      "Found 8516 images belonging to 7 classes.\n",
      " Found 1499 images belonging to 7 classes.\n",
      " {'AKIEC': 0, 'BCC': 1, 'BKL': 2, 'DF': 3, 'MEL': 4, 'NV': 5, 'VASC': 6}\n"
     ]
    }
   ],
   "source": [
    "from tensorflow.keras.preprocessing.image import ImageDataGenerator\n",
    "from tensorflow.keras.applications.resnet_v2 import preprocess_input as base_preprocess\n",
    "\n",
    "image_gen = ImageDataGenerator(rotation_range=30,\n",
    "                               width_shift_range=0.1,\n",
    "                               height_shift_range=0.1,\n",
    "                               shear_range=0.1,\n",
    "                               zoom_range=0.2,\n",
    "                               horizontal_flip=True,\n",
    "                               fill_mode='nearest',\n",
    "                               rescale=1/255,\n",
    "                               validation_split=0.15)\n",
    "\n",
    "data_dir = 'HAM_Dataset'\n",
    "batch_size = 128\n",
    "target_size = (224,224)\n",
    "train_image_gen = image_gen.flow_from_directory(data_dir, \n",
    "                                          target_size=target_size,\n",
    "                                          color_mode='rgb',\n",
    "                                          batch_size=batch_size,\n",
    "                                          class_mode='categorical',\n",
    "                                          subset=\"training\")\n",
    "\n",
    "test_image_gen = image_gen.flow_from_directory(data_dir, \n",
    "                                          target_size=target_size, \n",
    "                                          color_mode='rgb',\n",
    "                                          batch_size=batch_size,\n",
    "                                          class_mode='categorical',\n",
    "                                          shuffle=False,\n",
    "                                          subset=\"validation\")\n",
    "\n",
    "print(test_image_gen.class_indices)"
   ]
  },
  {
   "cell_type": "markdown",
   "id": "b9d19125",
   "metadata": {},
   "source": [
    "### Baseline CNN Model"
   ]
  },
  {
   "cell_type": "code",
   "execution_count": 14,
   "id": "eb4948e5",
   "metadata": {},
   "outputs": [
    {
     "name": "stdout",
     "output_type": "stream",
     "text": [
      "\n",
      "Model: \"sequential_3\"\n",
      "_________________________________________________________________\n",
      "Layer (type)                 Output Shape              Param #   \n",
      "=================================================================\n",
      "conv2d_12 (Conv2D)           (None, 222, 222, 64)      1792      \n",
      "_________________________________________________________________\n",
      "max_pooling2d_12 (MaxPooling (None, 111, 111, 64)      0         \n",
      "_________________________________________________________________\n",
      "conv2d_13 (Conv2D)           (None, 109, 109, 64)      36928     \n",
      "_________________________________________________________________\n",
      "max_pooling2d_13 (MaxPooling (None, 54, 54, 64)        0         \n",
      "_________________________________________________________________\n",
      "conv2d_14 (Conv2D)           (None, 52, 52, 128)       73856     \n",
      "_________________________________________________________________\n",
      "max_pooling2d_14 (MaxPooling (None, 26, 26, 128)       0         \n",
      "_________________________________________________________________\n",
      "conv2d_15 (Conv2D)           (None, 24, 24, 256)       295168    \n",
      "_________________________________________________________________\n",
      "max_pooling2d_15 (MaxPooling (None, 12, 12, 256)       0         \n",
      "_________________________________________________________________\n",
      "flatten_3 (Flatten)          (None, 36864)             0         \n",
      "_________________________________________________________________\n",
      "dense_6 (Dense)              (None, 128)               4718720   \n",
      "_________________________________________________________________\n",
      "dropout_3 (Dropout)          (None, 128)               0         \n",
      "_________________________________________________________________\n",
      "dense_7 (Dense)              (None, 7)                 903       \n",
      "=================================================================\n",
      "Total params: 5,127,367\n",
      "Trainable params: 5,127,367\n",
      "Non-trainable params: 0\n",
      "_________________________________________________________________\n",
      "add Codeadd Markdown\n",
      "\n"
     ]
    }
   ],
   "source": [
    "from tensorflow.keras.models import Sequential\n",
    "from tensorflow.keras.layers import Dense, Conv2D, MaxPool2D, Flatten, Dropout\n",
    "\n",
    "model = Sequential()\n",
    "\n",
    "model.add( Conv2D(filters=64, kernel_size=(3,3), input_shape=(224,224,3), activation=\"relu\") )\n",
    "model.add( MaxPool2D(pool_size=(2,2)) )\n",
    "\n",
    "model.add( Conv2D(filters=64, kernel_size=(3,3), activation=\"relu\") )\n",
    "model.add( MaxPool2D(pool_size=(2,2)) )\n",
    "\n",
    "model.add( Conv2D(filters=128, kernel_size=(3,3), activation=\"relu\") )\n",
    "model.add( MaxPool2D(pool_size=(2,2)) )\n",
    "\n",
    "model.add( Conv2D(filters=256, kernel_size=(3,3), activation=\"relu\") )\n",
    "model.add( MaxPool2D(pool_size=(2,2)) )\n",
    "\n",
    "model.add(Flatten())\n",
    "model.add(Dense(128, activation=\"relu\"))\n",
    "model.add(Dropout(0.5))\n",
    "\n",
    "model.add(Dense(7, activation=\"softmax\"))\n",
    "\n",
    "model.compile(loss=\"categorical_crossentropy\", optimizer=\"adam\", metrics=[\"accuracy\"])\n",
    "model.summary()"
   ]
  },
  {
   "cell_type": "markdown",
   "id": "c62414f2",
   "metadata": {},
   "source": [
    "### Training and Validation"
   ]
  },
  {
   "cell_type": "code",
   "execution_count": null,
   "id": "6b387e8b",
   "metadata": {},
   "outputs": [],
   "source": [
    "from tensorflow.keras.callbacks import ReduceLROnPlateau\n",
    "from tensorflow.keras.callbacks import EarlyStopping\n",
    "from tensorflow.keras.callbacks import ModelCheckpoint\n",
    "\n",
    "lr_reduce = ReduceLROnPlateau(monitor='val_accuracy', factor=0.5, patience=1,mode='max', min_lr=0.00001,verbose=1)\n",
    "early_stop = EarlyStopping(monitor=\"val_loss\", patience=2, verbose=1)\n",
    "model_chkpt = ModelCheckpoint('best_model_dn121.hdf5',save_best_only=True, monitor='val_accuracy',verbose=1)\n",
    "\n",
    "callback_list = [model_chkpt,lr_reduce]"
   ]
  },
  {
   "cell_type": "code",
   "execution_count": 19,
   "id": "39ff5ca2",
   "metadata": {},
   "outputs": [
    {
     "name": "stdout",
     "output_type": "stream",
     "text": [
      "\n",
      "Epoch 42/45\n",
      "67/67 [==============================] - 126s 2s/step - loss: 0.3013 - accuracy: 0.7550 - val_loss: 1.3435 - val_accuracy: 0.6758\n",
      "\n",
      "Epoch 00001: val_accuracy improved from 0.61107 to 0.67578, saving model to best_model_dn121.hdf5\n",
      "Epoch 43/45\n",
      "67/67 [==============================] - 124s 2s/step - loss: 0.2686 - accuracy: 0.7810 - val_loss: 1.5529 - val_accuracy: 0.6851\n",
      "\n",
      "Epoch 00002: val_accuracy improved from 0.67578 to 0.68512, saving model to best_model_dn121.hdf5\n",
      "Epoch 44/45\n",
      "67/67 [==============================] - 124s 2s/step - loss: 0.2371 - accuracy: 0.8033 - val_loss: 1.4009 - val_accuracy: 0.7111\n",
      "\n",
      "Epoch 00003: val_accuracy improved from 0.68512 to 0.71114, saving model to best_model_dn121.hdf5\n",
      "Epoch 45/45\n",
      "60/67 [=========================>....] - ETA: 11s - loss: 0.2297 - accuracy: 0.8042\n",
      "\n",
      "\n"
     ]
    }
   ],
   "source": [
    "history = model.fit(train_image_gen,\n",
    "                    epochs=15, \n",
    "                    validation_data = test_image_gen,\n",
    "                    class_weight=class_wt_dict,\n",
    "                    callbacks=callback_list)"
   ]
  },
  {
   "cell_type": "markdown",
   "id": "78865b82",
   "metadata": {},
   "source": [
    "### Model Evaluation"
   ]
  },
  {
   "cell_type": "code",
   "execution_count": 16,
   "id": "336bcbf0",
   "metadata": {},
   "outputs": [
    {
     "name": "stdout",
     "output_type": "stream",
     "text": [
      "\n",
      "array([[ 12,  16,   7,   1,   5,   8,   0],\n",
      "       [  2,  46,   6,   4,   9,  10,   0],\n",
      "       [  6,  23,  67,   2,  30,  34,   2],\n",
      "       [  3,   4,   2,   6,   1,   1,   0],\n",
      "       [  3,   4,  29,   0,  78,  51,   1],\n",
      "       [  8,  27,  44,   6,  78, 836,   6],\n",
      "       [  0,   3,   1,   0,   0,   2,  15]])\n",
      "\n"
     ]
    }
   ],
   "source": [
    "import sklearn\n",
    "from sklearn.metrics import classification_report, confusion_matrix\n",
    "\n",
    "cm = confusion_matrix(test_labels, predictions)\n",
    "cm"
   ]
  },
  {
   "cell_type": "code",
   "execution_count": 17,
   "id": "5c15da6a",
   "metadata": {},
   "outputs": [
    {
     "name": "stdout",
     "output_type": "stream",
     "text": [
      "\n",
      "precision    recall  f1-score   support\n",
      "\n",
      "           0       0.35      0.24      0.29        49\n",
      "           1       0.37      0.60      0.46        77\n",
      "           2       0.43      0.41      0.42       164\n",
      "           3       0.32      0.35      0.33        17\n",
      "           4       0.39      0.47      0.43       166\n",
      "           5       0.89      0.83      0.86      1005\n",
      "           6       0.62      0.71      0.67        21\n",
      "\n",
      "    accuracy                           0.71      1499\n",
      "   macro avg       0.48      0.52      0.49      1499\n",
      "weighted avg       0.73      0.71      0.71      1499\n",
      "\n"
     ]
    }
   ],
   "source": [
    "print(classification_report(test_labels, predictions))"
   ]
  },
  {
   "cell_type": "code",
   "execution_count": null,
   "id": "ceef50c8",
   "metadata": {},
   "outputs": [],
   "source": []
  }
 ],
 "metadata": {
  "kernelspec": {
   "display_name": "Python 3",
   "language": "python",
   "name": "python3"
  },
  "language_info": {
   "codemirror_mode": {
    "name": "ipython",
    "version": 3
   },
   "file_extension": ".py",
   "mimetype": "text/x-python",
   "name": "python",
   "nbconvert_exporter": "python",
   "pygments_lexer": "ipython3",
   "version": "3.8.8"
  }
 },
 "nbformat": 4,
 "nbformat_minor": 5
}
